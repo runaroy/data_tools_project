{
 "cells": [
  {
   "cell_type": "markdown",
   "id": "dd44ea58-ae27-4445-9275-36ea1828b60b",
   "metadata": {},
   "source": [
    "# Peer-graded_Assignment_Submitting_My_Work"
   ]
  },
  {
   "cell_type": "markdown",
   "id": "561d16af-9a92-4e03-a4a5-d8a361fbd961",
   "metadata": {},
   "source": [
    "# Data science tools and simple math calculation "
   ]
  },
  {
   "cell_type": "markdown",
   "id": "4c46c850-7ec6-4641-ba9c-2f6d97f69c24",
   "metadata": {},
   "source": [
    "# Some of the popular data science languages are as follows\n",
    "\n",
    "# 1) Python.\n",
    "# 2) R.\n",
    "# 3) SQL.\n",
    "# 4)Java.\n",
    "# 5)Julia.\n",
    "# 6)Scala.\n",
    "# 7)C/C++.\n",
    "# 8)JavaScript\n"
   ]
  },
  {
   "cell_type": "markdown",
   "id": "9a9bfa5c-7ee8-4e3b-9d48-8087ea316635",
   "metadata": {},
   "source": [
    "# Some of the commonly used libraries used by Data Scientists include:\n",
    "\n",
    "# TensorFlow.\n",
    "# NumPy.\n",
    "# SciPy.\n",
    "# Pandas.\n",
    "# Matplotlib.\n",
    "# Keras.\n",
    "# SciKit-Learn.\n",
    "# PyTorch.\n",
    "# Scrapy.\n",
    "# BeautifulSoup.\n",
    "# LightGBM.\n",
    "# ELI5.\n",
    "# Theano.\n",
    "# NuPIC.\n",
    "# Ramp.\n",
    "# Pipenv.\n",
    "# Bob.\n",
    "# PyBrain.\n",
    "# Caffe2.\n",
    "# Chainer."
   ]
  },
  {
   "cell_type": "markdown",
   "id": "bcc91719-8729-40f3-8715-c798a1c3b531",
   "metadata": {},
   "source": [
    "# |Data Science Tools\n",
    "# |---------------------\n",
    "# | SAS. It is one of those data science tools which are specifically designed for statistical operation\t\n",
    "# | Apache Spark \n",
    "# | BigML     \n"
   ]
  },
  {
   "cell_type": "markdown",
   "id": "18b9197c-c87f-40f8-8ee3-0e96c1124149",
   "metadata": {},
   "source": [
    "# Arithmetic expressions in Python\n"
   ]
  },
  {
   "cell_type": "code",
   "execution_count": 20,
   "id": "9a290f24-a865-44f5-a406-466eb6cba88f",
   "metadata": {},
   "outputs": [
    {
     "name": "stdout",
     "output_type": "stream",
     "text": [
      "64\n"
     ]
    }
   ],
   "source": [
    "x =pow(4,3)\n",
    "print ( x)"
   ]
  },
  {
   "cell_type": "markdown",
   "id": "29813954-ceb1-4fc3-96a7-8548fc47ecf0",
   "metadata": {},
   "source": [
    "# Multiply and add numbers"
   ]
  },
  {
   "cell_type": "code",
   "execution_count": 1,
   "id": "65dc9bbf-92cf-4e4a-ba6c-ebc79e448034",
   "metadata": {},
   "outputs": [
    {
     "name": "stdout",
     "output_type": "stream",
     "text": [
      "9\n"
     ]
    }
   ],
   "source": [
    "x= (2*2)+5\n",
    "print( x )"
   ]
  },
  {
   "cell_type": "markdown",
   "id": "bd97f565-aa98-4379-9d8f-0ebe09baae84",
   "metadata": {},
   "source": [
    "# This will convert 200 minutes to hours by diving by 60"
   ]
  },
  {
   "cell_type": "code",
   "execution_count": 2,
   "id": "3c27b983-ce11-4b9e-a108-c140d100ff69",
   "metadata": {},
   "outputs": [
    {
     "name": "stdout",
     "output_type": "stream",
     "text": [
      "0 days, 3.3333333333333335 hours, 0 mins. \n"
     ]
    }
   ],
   "source": [
    "days = 0\n",
    "hours = 0\n",
    "mins = 0\n",
    "\n",
    "time = 200\n",
    "#days = time / 1440\n",
    "leftover_minutes = time % 1440\n",
    "hours = leftover_minutes / 60\n",
    "#mins = time - (days*1440) - (hours*60)\n",
    "print(str(days) + \" days, \" + str(hours) + \" hours, \" + str(mins) +  \" mins. \")\n",
    "\n"
   ]
  },
  {
   "cell_type": "markdown",
   "id": "d253dc5e-7e85-43d0-b368-a76146dffc13",
   "metadata": {},
   "source": [
    "# Below the introduction cell created in Exercise 3, insert a new markdown cell to list the objectives that this notebook covered"
   ]
  },
  {
   "cell_type": "markdown",
   "id": "d587a8fb-bb3f-4657-9d6d-12073f244994",
   "metadata": {},
   "source": [
    "# Author \n",
    "# SHATARUPA "
   ]
  },
  {
   "cell_type": "code",
   "execution_count": null,
   "id": "4a96ba2a-1ece-4887-8f1c-6b57848de172",
   "metadata": {},
   "outputs": [],
   "source": []
  }
 ],
 "metadata": {
  "kernelspec": {
   "display_name": "Python [conda env:base] *",
   "language": "python",
   "name": "conda-base-py"
  },
  "language_info": {
   "codemirror_mode": {
    "name": "ipython",
    "version": 3
   },
   "file_extension": ".py",
   "mimetype": "text/x-python",
   "name": "python",
   "nbconvert_exporter": "python",
   "pygments_lexer": "ipython3",
   "version": "3.12.7"
  }
 },
 "nbformat": 4,
 "nbformat_minor": 5
}
